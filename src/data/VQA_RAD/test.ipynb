{
 "cells": [
  {
   "cell_type": "code",
   "execution_count": 5,
   "id": "1f8f4176-010d-4984-8412-bd7e57ce971c",
   "metadata": {
    "tags": []
   },
   "outputs": [
    {
     "name": "stdout",
     "output_type": "stream",
     "text": [
      "Looking in indexes: http://mirrors.aliyun.com/pypi/simple\n",
      "Collecting ipdb\n",
      "  Downloading http://mirrors.aliyun.com/pypi/packages/0c/4c/b075da0092003d9a55cf2ecc1cae9384a1ca4f650d51b00fc59875fe76f6/ipdb-0.13.13-py3-none-any.whl (12 kB)\n",
      "Requirement already satisfied: ipython>=7.31.1 in /root/miniconda3/lib/python3.8/site-packages (from ipdb) (8.11.0)\n",
      "Requirement already satisfied: decorator in /root/miniconda3/lib/python3.8/site-packages (from ipdb) (5.1.1)\n",
      "Requirement already satisfied: tomli in /root/miniconda3/lib/python3.8/site-packages (from ipdb) (2.0.1)\n",
      "Requirement already satisfied: pickleshare in /root/miniconda3/lib/python3.8/site-packages (from ipython>=7.31.1->ipdb) (0.7.5)\n",
      "Requirement already satisfied: matplotlib-inline in /root/miniconda3/lib/python3.8/site-packages (from ipython>=7.31.1->ipdb) (0.1.6)\n",
      "Requirement already satisfied: traitlets>=5 in /root/miniconda3/lib/python3.8/site-packages (from ipython>=7.31.1->ipdb) (5.9.0)\n",
      "Requirement already satisfied: prompt-toolkit!=3.0.37,<3.1.0,>=3.0.30 in /root/miniconda3/lib/python3.8/site-packages (from ipython>=7.31.1->ipdb) (3.0.38)\n",
      "Requirement already satisfied: pexpect>4.3 in /root/miniconda3/lib/python3.8/site-packages (from ipython>=7.31.1->ipdb) (4.8.0)\n",
      "Requirement already satisfied: jedi>=0.16 in /root/miniconda3/lib/python3.8/site-packages (from ipython>=7.31.1->ipdb) (0.18.2)\n",
      "Requirement already satisfied: backcall in /root/miniconda3/lib/python3.8/site-packages (from ipython>=7.31.1->ipdb) (0.2.0)\n",
      "Requirement already satisfied: stack-data in /root/miniconda3/lib/python3.8/site-packages (from ipython>=7.31.1->ipdb) (0.6.2)\n",
      "Requirement already satisfied: pygments>=2.4.0 in /root/miniconda3/lib/python3.8/site-packages (from ipython>=7.31.1->ipdb) (2.14.0)\n",
      "Requirement already satisfied: parso<0.9.0,>=0.8.0 in /root/miniconda3/lib/python3.8/site-packages (from jedi>=0.16->ipython>=7.31.1->ipdb) (0.8.3)\n",
      "Requirement already satisfied: ptyprocess>=0.5 in /root/miniconda3/lib/python3.8/site-packages (from pexpect>4.3->ipython>=7.31.1->ipdb) (0.7.0)\n",
      "Requirement already satisfied: wcwidth in /root/miniconda3/lib/python3.8/site-packages (from prompt-toolkit!=3.0.37,<3.1.0,>=3.0.30->ipython>=7.31.1->ipdb) (0.2.6)\n",
      "Requirement already satisfied: executing>=1.2.0 in /root/miniconda3/lib/python3.8/site-packages (from stack-data->ipython>=7.31.1->ipdb) (1.2.0)\n",
      "Requirement already satisfied: asttokens>=2.1.0 in /root/miniconda3/lib/python3.8/site-packages (from stack-data->ipython>=7.31.1->ipdb) (2.2.1)\n",
      "Requirement already satisfied: pure-eval in /root/miniconda3/lib/python3.8/site-packages (from stack-data->ipython>=7.31.1->ipdb) (0.2.2)\n",
      "Requirement already satisfied: six in /root/miniconda3/lib/python3.8/site-packages (from asttokens>=2.1.0->stack-data->ipython>=7.31.1->ipdb) (1.16.0)\n",
      "Installing collected packages: ipdb\n",
      "Successfully installed ipdb-0.13.13\n",
      "\u001b[33mWARNING: Running pip as the 'root' user can result in broken permissions and conflicting behaviour with the system package manager. It is recommended to use a virtual environment instead: https://pip.pypa.io/warnings/venv\u001b[0m\n"
     ]
    }
   ],
   "source": [
    "! pip install ipdb"
   ]
  },
  {
   "cell_type": "code",
   "execution_count": null,
   "id": "960b5c47-ab12-41d8-bc37-8b1a3195f8aa",
   "metadata": {
    "tags": []
   },
   "outputs": [
    {
     "name": "stdout",
     "output_type": "stream",
     "text": [
      "> \u001b[0;32m/tmp/ipykernel_2866/2172586296.py\u001b[0m(40)\u001b[0;36mcalculate_open_accuracy\u001b[0;34m()\u001b[0m\n",
      "\u001b[0;32m     39 \u001b[0;31m            \u001b[0mipdb\u001b[0m\u001b[0;34m.\u001b[0m\u001b[0mset_trace\u001b[0m\u001b[0;34m(\u001b[0m\u001b[0;34m)\u001b[0m\u001b[0;34m\u001b[0m\u001b[0;34m\u001b[0m\u001b[0m\n",
      "\u001b[0m\u001b[0;32m---> 40 \u001b[0;31m            \u001b[0mlabel\u001b[0m \u001b[0;34m=\u001b[0m \u001b[0mrow\u001b[0m\u001b[0;34m[\u001b[0m\u001b[0;34m'Label'\u001b[0m\u001b[0;34m]\u001b[0m\u001b[0;34m\u001b[0m\u001b[0;34m\u001b[0m\u001b[0m\n",
      "\u001b[0m\u001b[0;32m     41 \u001b[0;31m            \u001b[0mpredictions\u001b[0m \u001b[0;34m=\u001b[0m \u001b[0mrow\u001b[0m\u001b[0;34m[\u001b[0m\u001b[0;34m'Pred'\u001b[0m\u001b[0;34m]\u001b[0m\u001b[0;34m.\u001b[0m\u001b[0msplit\u001b[0m\u001b[0;34m(\u001b[0m\u001b[0;34m';'\u001b[0m\u001b[0;34m)\u001b[0m  \u001b[0;31m# Assuming predictions are separated by semicolons\u001b[0m\u001b[0;34m\u001b[0m\u001b[0;34m\u001b[0m\u001b[0m\n",
      "\u001b[0m\n"
     ]
    }
   ],
   "source": [
    "import csv\n",
    "import difflib\n",
    "import ipdb\n",
    "# Helper function to calculate string similarity\n",
    "def str_similarity(str1, str2):\n",
    "    seq = difflib.SequenceMatcher(None, str1, str2)\n",
    "    return seq.ratio()\n",
    "\n",
    "def find_most_similar_index(str_list, target_str):\n",
    "    \"\"\"\n",
    "    Given a list of strings and a target string, returns the index of the most similar string in the list.\n",
    "    \"\"\"\n",
    "    # Initialize variables to keep track of the most similar string and its index\n",
    "    most_similar_str = None\n",
    "    most_similar_index = None\n",
    "    highest_similarity = 0\n",
    "    \n",
    "    # Iterate through each string in the list\n",
    "    for i, str in enumerate(str_list):\n",
    "        # Calculate the similarity between the current string and the target string\n",
    "        similarity = str_similarity(str, target_str)\n",
    "        \n",
    "        # If the current string is more similar than the previous most similar string, update the variables\n",
    "        if similarity > highest_similarity:\n",
    "            most_similar_str = str\n",
    "            most_similar_index = i\n",
    "            highest_similarity = similarity\n",
    "    \n",
    "    # Return the index of the most similar string\n",
    "    return most_similar_index\n",
    "\n",
    "# Function to calculate open accuracy using similarity measure\n",
    "def calculate_open_accuracy(csv_file_path):\n",
    "    with open(csv_file_path, 'r') as file:\n",
    "        reader = csv.DictReader(file)\n",
    "        total_similarity = 0\n",
    "        total_questions = 0\n",
    "        for row in reader:\n",
    "            ipdb.set_trace()\n",
    "            label = row['Label']\n",
    "            predictions = row['Pred'].split(';')  # Assuming predictions are separated by semicolons\n",
    "            most_similar_index = find_most_similar_index(predictions, label)\n",
    "            most_similar_prediction = predictions[most_similar_index] if most_similar_index is not None else ''\n",
    "            similarity = str_similarity(most_similar_prediction, label)\n",
    "            total_similarity += similarity\n",
    "            total_questions += 1\n",
    "        print(\"total_similarity=\",total_similarity)\n",
    "        print(\"total_questions=\",total_questions)\n",
    "        return total_similarity, total_questions\n",
    "\n",
    "# Function to calculate closed accuracy using direct comparison\n",
    "def calculate_closed_accuracy(csv_file_path):\n",
    "    with open(csv_file_path, 'r') as file:\n",
    "        reader = csv.DictReader(file)\n",
    "        hits = 0\n",
    "        total_questions = 0\n",
    "        for row in reader:\n",
    "            label, pred = row['Label'], row['Pred']\n",
    "            hits += 1 if label.lower() in pred.lower() else 0\n",
    "            total_questions += 1\n",
    "        return hits, total_questions\n",
    "\n",
    "# Function to calculate overall accuracy considering both open and closed questions\n",
    "def calculate_overall_accuracy(open_csv_file_path, closed_csv_file_path):\n",
    "    open_total_similarity, open_total_questions = calculate_open_accuracy(open_csv_file_path)\n",
    "    closed_hits, closed_total_questions = calculate_closed_accuracy(closed_csv_file_path)\n",
    "    \n",
    "    # Calculate weighted overall accuracy\n",
    "    total_correct = open_total_similarity + closed_hits\n",
    "    total_questions = open_total_questions + closed_total_questions\n",
    "    overall_accuracy = total_correct / total_questions if total_questions > 0 else 0\n",
    "    \n",
    "    # Calculate individual accuracies for open and closed\n",
    "    open_accuracy = open_total_similarity / open_total_questions if open_total_questions > 0 else 0\n",
    "    closed_accuracy = closed_hits / closed_total_questions if closed_total_questions > 0 else 0\n",
    "    \n",
    "    return open_accuracy, closed_accuracy, overall_accuracy\n",
    "\n",
    "# Paths to the CSV files (replace these placeholders with your actual file paths)\n",
    "open_csv_file_path = '/root/Uni-Med/src/Uni/result_final_greedy_VQA_RAD_openQA_no_pretrain_no_aug_test1_VQA_RAD.csv'  # Placeholder path\n",
    "closed_csv_file_path = '/root/Uni-Med/src/Uni/result_final_greedy_VQA_RAD_closeQA_no_pretrain_no_aug_test1_VQA_RAD.csv'  # Placeholder path\n",
    "\n",
    "# Calculate accuracies\n",
    "open_accuracy, closed_accuracy, overall_accuracy = calculate_overall_accuracy(open_csv_file_path, closed_csv_file_path)\n",
    "\n",
    "print(\"Open Accuracy:\", open_accuracy)\n",
    "print(\"Closed Accuracy:\", closed_accuracy)\n",
    "print(\"Overall Accuracy:\", overall_accuracy)\n"
   ]
  },
  {
   "cell_type": "code",
   "execution_count": null,
   "id": "00f98b2f-78f0-4e93-86a8-b0d72fe7ddac",
   "metadata": {},
   "outputs": [],
   "source": []
  }
 ],
 "metadata": {
  "kernelspec": {
   "display_name": "Python 3 (ipykernel)",
   "language": "python",
   "name": "python3"
  },
  "language_info": {
   "codemirror_mode": {
    "name": "ipython",
    "version": 3
   },
   "file_extension": ".py",
   "mimetype": "text/x-python",
   "name": "python",
   "nbconvert_exporter": "python",
   "pygments_lexer": "ipython3",
   "version": "3.8.10"
  }
 },
 "nbformat": 4,
 "nbformat_minor": 5
}
