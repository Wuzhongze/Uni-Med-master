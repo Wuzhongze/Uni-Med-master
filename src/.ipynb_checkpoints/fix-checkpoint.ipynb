{
 "cells": [
  {
   "cell_type": "code",
   "execution_count": null,
   "id": "63e58fac-2c12-4461-bf95-f0a031b2c592",
   "metadata": {},
   "outputs": [],
   "source": [
    "import pandas as pd\n",
    "\n",
    "# Define the path to the CSV file (replace this with the actual path of your CSV file)\n",
    "csv_path = '/root/Uni-Med/src/Uni/result_final_greedy_VQA_RAD_closeQA_no_pretrain_no_aug_test_epoch100_choise_VQA_RAD.csv'\n",
    "\n",
    "# Read the CSV file\n",
    "df = pd.read_csv(csv_path)\n",
    "\n",
    "# Define a function to keep only the first word of a string\n",
    "def keep_first_word(string):\n",
    "    return string.split()[0] if isinstance(string, str) and string else \"\"\n",
    "\n",
    "# Apply the function to the 'Pred' column\n",
    "df['Pred'] = df['Pred'].apply(keep_first_word)\n",
    "\n",
    "# Define the path where you want to save the modified CSV file\n",
    "output_csv_path = '/root/Uni-Med/src/Uni/result_final_greedy_VQA_RAD_closeQA_no_pretrain_no_aug_test_epoch100_choise_VQA_RAD_fix.csv'\n",
    "\n",
    "# Save the modified DataFrame to a new CSV file\n",
    "df.to_csv(output_csv_path, index=False)\n"
   ]
  }
 ],
 "metadata": {
  "kernelspec": {
   "display_name": "Python 3 (ipykernel)",
   "language": "python",
   "name": "python3"
  },
  "language_info": {
   "codemirror_mode": {
    "name": "ipython",
    "version": 3
   },
   "file_extension": ".py",
   "mimetype": "text/x-python",
   "name": "python",
   "nbconvert_exporter": "python",
   "pygments_lexer": "ipython3",
   "version": "3.8.10"
  }
 },
 "nbformat": 4,
 "nbformat_minor": 5
}
