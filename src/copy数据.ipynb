{
 "cells": [
  {
   "cell_type": "code",
   "execution_count": 1,
   "id": "ececc0b9-1be0-4dfa-9a37-8888cff9e540",
   "metadata": {
    "tags": []
   },
   "outputs": [],
   "source": [
    "import os\n",
    "import shutil\n",
    "\n",
    "def copy_files(src, dst):\n",
    "    if not os.path.exists(dst):\n",
    "        os.makedirs(dst)\n",
    "    for item in os.listdir(src):\n",
    "        s = os.path.join(src, item)\n",
    "        d = os.path.join(dst, item)\n",
    "        if os.path.isdir(s):\n",
    "            copy_files(s, d)\n",
    "        else:\n",
    "            if os.path.getsize(s) < 20971520:  # 文件大小小于20MB\n",
    "                shutil.copy2(s, d)\n",
    "\n",
    "source_folder = '/root/Uni-Med/src'  # 源文件夹路径\n",
    "destination_folder = '/root/Uni-Med'  # 目标文件夹路径\n",
    "\n",
    "copy_files(source_folder, destination_folder)"
   ]
  },
  {
   "cell_type": "code",
   "execution_count": null,
   "id": "ec131ee0-e82a-44da-b3c5-ae407931c18c",
   "metadata": {},
   "outputs": [],
   "source": []
  }
 ],
 "metadata": {
  "kernelspec": {
   "display_name": "Python 3 (ipykernel)",
   "language": "python",
   "name": "python3"
  },
  "language_info": {
   "codemirror_mode": {
    "name": "ipython",
    "version": 3
   },
   "file_extension": ".py",
   "mimetype": "text/x-python",
   "name": "python",
   "nbconvert_exporter": "python",
   "pygments_lexer": "ipython3",
   "version": "3.8.10"
  }
 },
 "nbformat": 4,
 "nbformat_minor": 5
}
